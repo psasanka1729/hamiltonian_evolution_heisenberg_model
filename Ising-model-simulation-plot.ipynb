{
 "cells": [
  {
   "cell_type": "code",
   "execution_count": 23,
   "id": "a6601389-5f62-4da9-992c-7c0614805625",
   "metadata": {
    "tags": []
   },
   "outputs": [],
   "source": [
    "# Importing standard Qiskit libraries:\n",
    "import numpy as np     \n",
    "from qiskit import QuantumCircuit, transpile, Aer, IBMQ, execute, assemble\n",
    "from qiskit.quantum_info import Statevector\n",
    "from qiskit.providers.ibmq import least_busy\n",
    "from qiskit.tools.jupyter import *\n",
    "from qiskit.visualization import *\n",
    "from qiskit import QuantumRegister\n",
    "from qiskit import ClassicalRegister\n",
    "from ibm_quantum_widgets import *\n",
    "from scipy.linalg import expm\n",
    "\n",
    "# Loading your IBM Quantum account(s):\n",
    "#provider = IBMQ.load_account()\n",
    "large = 40; med = 34; small = 20\n",
    "params = {'axes.titlesize': med,\n",
    "          'axes.titlepad' : med,\n",
    "          'legend.fontsize': med,\n",
    "          'axes.labelsize': med ,\n",
    "          'axes.titlesize': med ,\n",
    "          'xtick.labelsize': med ,\n",
    "          'ytick.labelsize': med ,\n",
    "          'figure.titlesize': med}\n",
    "plt.rcParams['text.usetex'] = True\n",
    "#plt.rcParams['text.latex.preamble'] = r'\\usepackage{{amsmath}}'\n",
    "plt.rcParams.update(params)"
   ]
  },
  {
   "cell_type": "code",
   "execution_count": 24,
   "id": "4e8a6746-0dad-4ee9-81d2-1cc7e9dca83d",
   "metadata": {
    "tags": []
   },
   "outputs": [],
   "source": [
    "# Number of qubits in the system.\n",
    "L = 2"
   ]
  },
  {
   "cell_type": "code",
   "execution_count": 25,
   "id": "619812dc-780d-4ea0-8920-67375645d2a4",
   "metadata": {},
   "outputs": [],
   "source": [
    "def zz_circuit(qubit_0,qubit_1,delta):\n",
    "    qc_zz = QuantumCircuit(L)\n",
    "    qc_zz.cx(qubit_0,qubit_1)\n",
    "    qc_zz.rz(2*delta,qubit_1)\n",
    "    qc_zz.cx(qubit_0,qubit_1)\n",
    "    return qc_zz"
   ]
  },
  {
   "cell_type": "code",
   "execution_count": 26,
   "id": "1aaf0129-9ea6-47bd-a138-babc33947d5b",
   "metadata": {},
   "outputs": [],
   "source": [
    "def xx_circuit(qubit_0,qubit_1,delta):\n",
    "    qc_xx = QuantumCircuit(L)\n",
    "    qc_xx.h(qubit_0)\n",
    "    qc_xx.h(qubit_1)\n",
    "    qc_xx.cx(qubit_0,qubit_1)\n",
    "    qc_xx.rz(2*delta,qubit_1)\n",
    "    qc_xx.cx(qubit_0,qubit_1)\n",
    "    qc_xx.h(qubit_0)\n",
    "    qc_xx.h(qubit_1)\n",
    "    return qc_xx"
   ]
  },
  {
   "cell_type": "code",
   "execution_count": 27,
   "id": "a6d877ce-5ea2-4443-b5c7-2eca1398a1b5",
   "metadata": {},
   "outputs": [],
   "source": [
    "def yy_circuit(qubit_0,qubit_1,delta):\n",
    "    qc_yy = QuantumCircuit(L)\n",
    "    qc_yy.sdg(qubit_0)\n",
    "    qc_yy.sdg(qubit_1)\n",
    "    qc_yy.h(qubit_0)\n",
    "    qc_yy.h(qubit_1)\n",
    "    qc_yy.cx(qubit_0,qubit_1)\n",
    "    qc_yy.rz(2*delta,qubit_1)\n",
    "    qc_yy.cx(qubit_0,qubit_1)\n",
    "    qc_yy.h(qubit_0)\n",
    "    qc_yy.h(qubit_1)\n",
    "    qc_yy.s(qubit_0)\n",
    "    qc_yy.s(qubit_1)\n",
    "    return qc_yy"
   ]
  },
  {
   "cell_type": "code",
   "execution_count": 42,
   "id": "a355c5f2-eeba-415e-bd01-0758c7e821bc",
   "metadata": {
    "tags": []
   },
   "outputs": [],
   "source": [
    "def Z_I_single_qubit_circuit(qubit_0,qubit_1,delta):\n",
    "    qc_sq = QuantumCircuit(L)\n",
    "    Z_otimes_I = np.matrix([[1,0,0,0],[0,1,0,0],[0,0,-1,0],[0,0,0,-1]])\n",
    "    qc_sq.unitary(expm(-1j*Z_otimes_I*(delta)),[qubit_0,qubit_1])\n",
    "    return qc_sq#.draw(\"mpl\")\n",
    "\n",
    "def I_Z_single_qubit_circuit(qubit_0,qubit_1,delta):\n",
    "    qc_sq = QuantumCircuit(L)\n",
    "    I_otimes_Z = np.matrix([[1,0,0,0],[0,-1,0,0],[0,0,1,0],[0,0,0,-1]])\n",
    "    qc_sq.unitary(expm(-1j*I_otimes_Z*(delta)),[qubit_0,qubit_1])\n",
    "    return qc_sq.draw(\"mpl\")"
   ]
  },
  {
   "cell_type": "code",
   "execution_count": 51,
   "id": "6e2e7364-a856-4377-861d-eca27b110ce2",
   "metadata": {},
   "outputs": [
    {
     "data": {
      "image/png": "[encoded data removed]",
      "text/plain": [
       "<Figure size 293.304x288.96 with 1 Axes>"
      ]
     },
     "execution_count": 51,
     "metadata": {},
     "output_type": "execute_result"
    }
   ],
   "source": [
    "qc = Z_I_single_qubit_circuit(0,1,1)\n",
    "transpile(qc,basis_gates = ['h','cx','rz'],optimization_level=3).draw(\"mpl\",scale=2)"
   ]
  },
  {
   "cell_type": "code",
   "execution_count": 29,
   "id": "afda92ea-0681-4214-8530-16c7ab9a3fbf",
   "metadata": {},
   "outputs": [],
   "source": [
    "r\"\"\"\n",
    "The following function constructs the quantum circuit\n",
    "for one time step for the complete Hamiltonian.\n",
    "\"\"\"\n",
    "def one_time_step(time_step,h_0,h_1,J):\n",
    "    \n",
    "    qr = QuantumRegister(2,\"q\")\n",
    "    \n",
    "    # Create the ancilla register\n",
    "    #anc = QuantumRegister(1,\"ancilla\")\n",
    "    \n",
    "    # Create the quantum circuit\n",
    "    qc = QuantumCircuit(qr)\n",
    "    \n",
    "    Z_otimes_I = np.matrix([[1,0,0,0],[0,1,0,0],[0,0,-1,0],[0,0,0,-1]])\n",
    "    qc.unitary(expm(-1j*Z_otimes_I*(h_0*time_step)),[0,1])\n",
    "    \n",
    "    I_otimes_Z = np.matrix([[1,0,0,0],[0,-1,0,0],[0,0,1,0],[0,0,0,-1]])\n",
    "    qc.unitary(expm(-1j*I_otimes_Z*(h_1*time_step)),[0,1])    \n",
    "    \n",
    "    qc = qc.compose(xx_circuit(0,1,J*time_step))\n",
    "    qc = qc.compose(yy_circuit(0,1,J*time_step))\n",
    "    qc = qc.compose(zz_circuit(0,1,J*time_step))\n",
    "    \n",
    "    #qc = qc.compose(xx_circuit(0,1,J*time_step))\n",
    "    #qc = qc.compose(yy_circuit(0,1,J*time_step))    \n",
    "    #qc = qc.compose(zz_circuit(0,1,J*time_step))    \n",
    "    \n",
    "    \n",
    "    r\"\"\"\n",
    "    # Odd bonds are constructed.\n",
    "    for i in range(0,L-1,2):\n",
    "        qc = qc.compose(xx_circuit(i,i+1,time_step))\"\"\"\n",
    "    \n",
    "    r\"\"\"\n",
    "    qc.barrier()\n",
    "    for i in range(0,L-1,2):\n",
    "        qc = qc.compose(yy_circuit(i,i+1,time_step))\"\"\"\n",
    "        \n",
    "    #qc.barrier()\n",
    "    #for i in range(0,L-1,2):\n",
    "        #qc = qc.compose(zz_circuit(i,i+1,time_step))  \n",
    "    \n",
    "        \n",
    "    r\"\"\"\n",
    "    qc.barrier()\n",
    "    # Even bonds are constructed.\n",
    "    for i in range(1,L-1,2):\n",
    "        qc = qc.compose(xx_circuit(i,i+1,time_step))  \n",
    "    \n",
    "    qc.barrier()\n",
    "    for i in range(1,L-1,2):\n",
    "        qc = qc.compose(yy_circuit(i,i+1,time_step)) \n",
    "        \n",
    "    qc.barrier()\n",
    "    for i in range(1,L-1,2):\n",
    "        qc = qc.compose(zz_circuit(i,i+1,time_step))\"\"\"\n",
    "    \n",
    "    return qc#.draw(\"mpl\",scale=1.5)   \n",
    "#one_time_step(1.e-5,0.1,0.2,1).draw(\"mpl\",scale=1.5)"
   ]
  },
  {
   "cell_type": "code",
   "execution_count": 30,
   "id": "5e9f7160-385c-492e-b198-4454d08cab20",
   "metadata": {},
   "outputs": [],
   "source": [
    "def complete_time_evolution_circuit(time_step,duration,h_0,h_1,J):\n",
    "    steps = int(duration/time_step)\n",
    "    qr = QuantumRegister(L,\"q\")\n",
    "    \n",
    "    # Create the ancilla register\n",
    "    #anc = QuantumRegister(1,\"ancilla\")\n",
    "    \n",
    "    # Create a classical register for classical bits\n",
    "    classical_register = ClassicalRegister(2,\"c\")\n",
    "    # Create the quantum circuit\n",
    "    qc = QuantumCircuit(qr, classical_register)\n",
    "    \n",
    "    # Initialize the qubit here.\n",
    "    qc.initialize([1,0],0)\n",
    "    qc.initialize([0,1],1)\n",
    "    \n",
    "    for i in range(steps):\n",
    "        qc = qc.compose(one_time_step(time_step,h_0,h_1,J))\n",
    "        #qc.rz(2*time_step,0)\n",
    "        #qc.rz(2*time_step,1)\n",
    "    #qc.h(1)\n",
    "    qc.measure(0,0)\n",
    "    qc.measure(1,1)\n",
    "    return qc\n",
    "#J = 1\n",
    "#delta_t = J/100\n",
    "#complete_time_evolution_circuit(delta_t,J/100,0.1,-0.1,J).draw(\"mpl\",scale=1.5)"
   ]
  },
  {
   "cell_type": "code",
   "execution_count": 31,
   "id": "dc53872e-de2b-449f-9047-1d261f067af9",
   "metadata": {},
   "outputs": [],
   "source": [
    "h_0 = 1\n",
    "h_1 = 1\n",
    "J = 1"
   ]
  },
  {
   "cell_type": "code",
   "execution_count": 32,
   "id": "c23a5d5b-5b6f-4641-a965-f35e86cd09aa",
   "metadata": {
    "tags": []
   },
   "outputs": [],
   "source": [
    "number_of_slots = 1024\n",
    "r\"\"\"\n",
    "# Evolve the system to the followin total time.\n",
    "total_time = 5*J\n",
    "\n",
    "QC = complete_time_evolution_circuit(delta_t,total_time,h_0,h_1,J)\n",
    "# Simulating the Circuit:\n",
    "backend = Aer.get_backend('qasm_simulator')\n",
    "job = execute(QC, backend, shots = number_of_slots)\n",
    "result = job.result()\n",
    "counts = result.get_counts()\n",
    "plot_histogram(counts)\"\"\";"
   ]
  },
  {
   "cell_type": "code",
   "execution_count": 33,
   "id": "47a90126-1be0-49ee-a953-b474bf97bc7b",
   "metadata": {},
   "outputs": [],
   "source": [
    "wavefunction_00 = []\n",
    "wavefunction_01 = []\n",
    "wavefunction_10 = []\n",
    "wavefunction_11 = []\n",
    "\n",
    "J = 1\n",
    "delta_t = J/200\n",
    "\n",
    "time_lst = np.linspace(0.0001,2,20)\n",
    "\n",
    "for t in time_lst:\n",
    "    # Evolve the system to the followin total time.\n",
    "    total_time = t*J\n",
    "\n",
    "    QC = complete_time_evolution_circuit(delta_t,total_time,h_0,h_1,J)\n",
    "    # Simulating the Circuit:\n",
    "    backend = Aer.get_backend('qasm_simulator')\n",
    "    job = execute(QC, backend, shots = number_of_slots)\n",
    "    result = job.result()\n",
    "    counts = result.get_counts()\n",
    "    \n",
    "    try:\n",
    "        wavefunction_00.append(counts[\"00\"]/number_of_slots)\n",
    "    except KeyError:\n",
    "        wavefunction_00.append(0)\n",
    "        \n",
    "    try:\n",
    "        wavefunction_01.append(counts[\"01\"]/number_of_slots)\n",
    "    except KeyError:\n",
    "        wavefunction_01.append(0)\n",
    "        \n",
    "    try:\n",
    "        wavefunction_10.append(counts[\"10\"]/number_of_slots)\n",
    "    except KeyError:\n",
    "        wavefunction_10.append(0)     \n",
    "        \n",
    "    try:\n",
    "        wavefunction_11.append(counts[\"11\"]/number_of_slots)\n",
    "    except KeyError:\n",
    "        wavefunction_11.append(0)"
   ]
  },
  {
   "cell_type": "code",
   "execution_count": 34,
   "id": "590ee5f0-6579-4e89-a686-b0a7d77addeb",
   "metadata": {
    "tags": []
   },
   "outputs": [],
   "source": [
    "import matplotlib.pyplot as plt"
   ]
  },
  {
   "cell_type": "code",
   "execution_count": 36,
   "id": "51f9379c-0bd9-463f-bca8-2d6f07cfce23",
   "metadata": {
    "tags": []
   },
   "outputs": [
    {
     "data": {
      "image/png": "[encoded data removed]",
      "text/plain": [
       "<Figure size 720x576 with 1 Axes>"
      ]
     },
     "metadata": {
      "needs_background": "light"
     },
     "output_type": "display_data"
    }
   ],
   "source": [
    "f = plt.figure()\n",
    "plt.plot(time_lst*J,wavefunction_00)\n",
    "plt.plot(time_lst*J,wavefunction_01)\n",
    "plt.plot(time_lst*J,wavefunction_10)\n",
    "plt.plot(time_lst*J,wavefunction_11)\n",
    "f.set_figwidth(10)\n",
    "f.set_figheight(8)\n",
    "plt.savefig('variation_of_wavefunction_components.jpg', dpi=600)\n",
    "plt.show()"
   ]
  },
  {
   "cell_type": "code",
   "execution_count": null,
   "id": "8298b227-c6ee-4fa4-82fd-fac1b00d5cac",
   "metadata": {
    "tags": []
   },
   "outputs": [],
   "source": [
    "#wavefunction_00"
   ]
  },
  {
   "cell_type": "markdown",
   "id": "1cb17073-b990-44e5-98fd-42e793b8baa9",
   "metadata": {
    "tags": []
   },
   "source": [
    "# Running on real hardware"
   ]
  },
  {
   "cell_type": "code",
   "execution_count": null,
   "id": "b10c8316-36b1-49fa-bc73-e4e1249010dc",
   "metadata": {
    "tags": []
   },
   "outputs": [],
   "source": [
    "r\"\"\"\n",
    "# Load IBM Q account and get the least busy backend device\n",
    "provider = IBMQ.load_account()\n",
    "provider = IBMQ.get_provider(\"ibm-q\")\n",
    "device = least_busy(provider.backends(filters=lambda x: int(x.configuration().n_qubits) >= 3 and \n",
    "                                   not x.configuration().simulator and x.status().operational==True))\n",
    "print(\"Running on current least busy device: \", device)\"\"\";"
   ]
  },
  {
   "cell_type": "code",
   "execution_count": null,
   "id": "2b7856b5-4830-4476-b31c-cdf0fbdebad2",
   "metadata": {},
   "outputs": [],
   "source": [
    "#import time\n",
    "#start = time.time()"
   ]
  },
  {
   "cell_type": "code",
   "execution_count": null,
   "id": "b7657a95-03c5-4d91-b45a-e8fc7522f2c6",
   "metadata": {
    "tags": []
   },
   "outputs": [],
   "source": [
    "r\"\"\"\n",
    "# Run our circuit on the least busy backend. Monitor the execution of the job in the queue\n",
    "from qiskit.tools.monitor import job_monitor\n",
    "transpiled_circuit = transpile(QC, device, optimization_level=1)\n",
    "job = device.run(transpiled_circuit)\n",
    "job_monitor(job, interval=1)\"\"\";"
   ]
  },
  {
   "cell_type": "code",
   "execution_count": null,
   "id": "f8e14b55-57f2-411e-a97a-1c1b1f37ecd2",
   "metadata": {},
   "outputs": [],
   "source": [
    "#time_taken = time.time()-start\n",
    "#print(\"Time taken = \",time_taken/60,\"minutes\")"
   ]
  },
  {
   "cell_type": "code",
   "execution_count": null,
   "id": "bdc25b6b-cd95-45eb-83fa-09da0d2f7c71",
   "metadata": {
    "tags": []
   },
   "outputs": [],
   "source": [
    "r\"\"\"\n",
    "# Getting the results from the computation:\n",
    "results = job.result()\n",
    "answer = results.get_counts(transpiled_circuit)\n",
    "plot_histogram(answer)\"\"\";"
   ]
  },
  {
   "cell_type": "code",
   "execution_count": null,
   "id": "815b97fc-4ae3-4a5f-95d0-cf99590e72b7",
   "metadata": {},
   "outputs": [],
   "source": [
    "#answer"
   ]
  },
  {
   "cell_type": "markdown",
   "id": "377718a2-5914-4546-8623-e93bf05c745f",
   "metadata": {},
   "source": [
    "# Numerical simulation"
   ]
  },
  {
   "cell_type": "code",
   "execution_count": 15,
   "id": "248fc3e5-6800-415a-9974-d4b8372c3e6b",
   "metadata": {},
   "outputs": [],
   "source": [
    "import numpy as np\n",
    "import matplotlib.pyplot as plt\n",
    "identity_2 = np.matrix([[1,0],[0,1]])\n",
    "sigma_x    = np.matrix([[0,1],[1,0]])\n",
    "sigma_y    = np.matrix([[0,-1j],[1j,0]])\n",
    "sigma_z    = np.matrix([[1,0],[0,-1]])"
   ]
  },
  {
   "cell_type": "code",
   "execution_count": 16,
   "id": "7d41d5e0-9f4d-40b2-a148-f4d276655ff9",
   "metadata": {},
   "outputs": [],
   "source": [
    "J     = 1.0\n",
    "h_lst = [1,1]#2*np.random.rand(2)-1"
   ]
  },
  {
   "cell_type": "code",
   "execution_count": 17,
   "id": "bfa85c73-fe8e-406e-a002-663725914967",
   "metadata": {},
   "outputs": [],
   "source": [
    "def Hamiltonian():\n",
    "    H = np.zeros((4,4))\n",
    "    # i = 0\n",
    "    H = H + h_lst[0]*np.kron(sigma_z,identity_2)+J*(np.kron(sigma_x,sigma_x)+np.kron(sigma_y,sigma_y)+np.kron(sigma_z,sigma_z))\n",
    "    # i = 1\n",
    "    H = H + h_lst[1]*np.kron(identity_2,sigma_z)#+ J*(np.kron(sigma_x,sigma_x)+np.kron(sigma_y,sigma_y)+np.kron(sigma_z,sigma_z))    \n",
    "    return H\n",
    "H = Hamiltonian()"
   ]
  },
  {
   "cell_type": "code",
   "execution_count": 18,
   "id": "3ed9dffe-d841-44dd-b154-b8009733d62b",
   "metadata": {},
   "outputs": [
    {
     "data": {
      "text/plain": [
       "matrix([[ 3.+0.j,  0.+0.j,  0.+0.j,  0.+0.j],\n",
       "        [ 0.+0.j, -1.+0.j,  2.+0.j,  0.+0.j],\n",
       "        [ 0.+0.j,  2.+0.j, -1.+0.j,  0.+0.j],\n",
       "        [ 0.+0.j,  0.+0.j,  0.+0.j, -1.+0.j]])"
      ]
     },
     "execution_count": 18,
     "metadata": {},
     "output_type": "execute_result"
    }
   ],
   "source": [
    "H"
   ]
  },
  {
   "cell_type": "code",
   "execution_count": 19,
   "id": "a94698ea-1a31-467c-a2a6-6a3daf1af97f",
   "metadata": {},
   "outputs": [],
   "source": [
    "from scipy.linalg import expm\n",
    "def time_evolution(time,initial_state):\n",
    "    time_evolution_operator = expm(-1j*H*time)\n",
    "    time_evolved_state = time_evolution_operator@initial_state\n",
    "    return time_evolved_state"
   ]
  },
  {
   "cell_type": "code",
   "execution_count": 20,
   "id": "de8ded66-be06-466f-b15d-d50c195a29d5",
   "metadata": {},
   "outputs": [
    {
     "data": {
      "text/plain": [
       "array([ 0.        +0.j        , -0.68815856-0.31494096j,\n",
       "        0.27201173-0.59435646j,  0.        +0.j        ])"
      ]
     },
     "execution_count": 20,
     "metadata": {},
     "output_type": "execute_result"
    }
   ],
   "source": [
    "time_evolution(2,np.array([0,0,1,0]))"
   ]
  },
  {
   "cell_type": "code",
   "execution_count": 21,
   "id": "b6025453-0509-457c-aff0-b13baec40dfd",
   "metadata": {},
   "outputs": [],
   "source": [
    "time_lst = np.linspace(0,2,100)\n",
    "psi_00 = []\n",
    "psi_01 = []\n",
    "psi_10 = []\n",
    "psi_11 = []\n",
    "for t in time_lst:\n",
    "    psi_t = time_evolution(t,np.array([0,0,1,0]))\n",
    "    psi_00.append(np.abs(psi_t[0])**2)\n",
    "    psi_01.append(np.abs(psi_t[1])**2)\n",
    "    psi_10.append(np.abs(psi_t[2])**2)\n",
    "    psi_11.append(np.abs(psi_t[3])**2)"
   ]
  },
  {
   "cell_type": "code",
   "execution_count": 22,
   "id": "e878d603-9ca0-41ca-89eb-67852a3c3306",
   "metadata": {},
   "outputs": [
    {
     "data": {
      "image/png": "[encoded data removed]",
      "text/plain": [
       "<Figure size 432x288 with 1 Axes>"
      ]
     },
     "metadata": {
      "needs_background": "light"
     },
     "output_type": "display_data"
    }
   ],
   "source": [
    "plt.plot(time_lst,psi_00)\n",
    "plt.plot(time_lst,psi_01)\n",
    "plt.plot(time_lst,psi_10)\n",
    "plt.plot(time_lst,psi_11)\n",
    "plt.show()"
   ]
  },
  {
   "cell_type": "code",
   "execution_count": null,
   "id": "43b8db9f-a722-4702-9c36-5b440be00091",
   "metadata": {},
   "outputs": [],
   "source": []
  }
 ],
 "metadata": {
  "kernelspec": {
   "display_name": "Python 3 (ipykernel)",
   "language": "python",
   "name": "python3"
  },
  "language_info": {
   "codemirror_mode": {
    "name": "ipython",
    "version": 3
   },
   "file_extension": ".py",
   "mimetype": "text/x-python",
   "name": "python",
   "nbconvert_exporter": "python",
   "pygments_lexer": "ipython3",
   "version": "3.9.12"
  },
  "widgets": {
   "application/vnd.jupyter.widget-state+json": {
    "state": {
     "0c2c2a212356436f8fbd64d7805cc06e": {
      "model_module": "@jupyter-widgets/controls",
      "model_module_version": "2.0.0",
      "model_name": "HTMLStyleModel",
      "state": {
       "description_width": "",
       "font_size": null,
       "text_color": null
      }
     },
     "11cbb1c353ed4e75b720059f407d174d": {
      "model_module": "@jupyter-widgets/controls",
      "model_module_version": "2.0.0",
      "model_name": "HTMLModel",
      "state": {
       "layout": "IPY_MODEL_949a555a1af74e15aef7ea432320fa50",
       "style": "IPY_MODEL_6d6feabb94c5496c940b8d96ac5b4915",
       "value": "<h5>Backend</h5>"
      }
     },
     "1351be7b8d834b7da912f3241f5840ce": {
      "model_module": "@jupyter-widgets/controls",
      "model_module_version": "2.0.0",
      "model_name": "HTMLModel",
      "state": {
       "layout": "IPY_MODEL_db14afefe1c1444780405792aaa8b332",
       "style": "IPY_MODEL_4fcec2815393483d98921dbfaefa6611",
       "value": "<h5>Status</h5>"
      }
     },
     "1ce04d97fb224c77b5b28c7de9468ab9": {
      "model_module": "@jupyter-widgets/base",
      "model_module_version": "2.0.0",
      "model_name": "LayoutModel",
      "state": {}
     },
     "37af63b563124d4ebd4411412b82fc4e": {
      "model_module": "@jupyter-widgets/controls",
      "model_module_version": "2.0.0",
      "model_name": "HTMLModel",
      "state": {
       "layout": "IPY_MODEL_74e972808e5047a08bb8526651196b0a",
       "style": "IPY_MODEL_0c2c2a212356436f8fbd64d7805cc06e",
       "value": "<p style='font-family: IBM Plex Sans, Arial, Helvetica, sans-serif; font-size: 20px; font-weight: medium;'>Circuit Properties</p>"
      }
     },
     "4621e0a02cc1428e96b09ce71ca718f7": {
      "model_module": "@jupyter-widgets/controls",
      "model_module_version": "2.0.0",
      "model_name": "ButtonModel",
      "state": {
       "button_style": "primary",
       "description": "Clear",
       "layout": "IPY_MODEL_b49a59032a7f4bdea02a6c0d14e28697",
       "style": "IPY_MODEL_9aedccd3f9cf42d8b3361d3df49aae49",
       "tooltip": null
      }
     },
     "4a712982281c4e69ab98a136cff736f5": {
      "model_module": "@jupyter-widgets/controls",
      "model_module_version": "2.0.0",
      "model_name": "HTMLModel",
      "state": {
       "layout": "IPY_MODEL_6b4bcd1fcb464ae49f56f717ae25e441",
       "style": "IPY_MODEL_9aa22188e51242ec882995986a02053a",
       "value": "<h5>Queue</h5>"
      }
     },
     "4f06f4078e494a29aa55f533135a5aa5": {
      "model_module": "@jupyter-widgets/base",
      "model_module_version": "2.0.0",
      "model_name": "LayoutModel",
      "state": {
       "margin": "0px 0px 0px 37px",
       "width": "600px"
      }
     },
     "4fcec2815393483d98921dbfaefa6611": {
      "model_module": "@jupyter-widgets/controls",
      "model_module_version": "2.0.0",
      "model_name": "HTMLStyleModel",
      "state": {
       "description_width": "",
       "font_size": null,
       "text_color": null
      }
     },
     "529830e435e540999f65685307c32f82": {
      "model_module": "@jupyter-widgets/controls",
      "model_module_version": "2.0.0",
      "model_name": "HBoxModel",
      "state": {
       "children": [
        "IPY_MODEL_fa6a7db35a2d42e2b8776b0db738d26d",
        "IPY_MODEL_11cbb1c353ed4e75b720059f407d174d",
        "IPY_MODEL_1351be7b8d834b7da912f3241f5840ce",
        "IPY_MODEL_4a712982281c4e69ab98a136cff736f5",
        "IPY_MODEL_ed7221c7aa8b4d7fad3efd81a8a6bfb0"
       ],
       "layout": "IPY_MODEL_4f06f4078e494a29aa55f533135a5aa5"
      }
     },
     "67272844600a49faac0d52b3f4971e32": {
      "model_module": "@jupyter-widgets/controls",
      "model_module_version": "2.0.0",
      "model_name": "GridBoxModel",
      "state": {
       "children": [
        "IPY_MODEL_4621e0a02cc1428e96b09ce71ca718f7"
       ],
       "layout": "IPY_MODEL_b63761d6a22a4ba58856480cdf674740"
      }
     },
     "6b4bcd1fcb464ae49f56f717ae25e441": {
      "model_module": "@jupyter-widgets/base",
      "model_module_version": "2.0.0",
      "model_name": "LayoutModel",
      "state": {
       "width": "70px"
      }
     },
     "6d6feabb94c5496c940b8d96ac5b4915": {
      "model_module": "@jupyter-widgets/controls",
      "model_module_version": "2.0.0",
      "model_name": "HTMLStyleModel",
      "state": {
       "description_width": "",
       "font_size": null,
       "text_color": null
      }
     },
     "74e972808e5047a08bb8526651196b0a": {
      "model_module": "@jupyter-widgets/base",
      "model_module_version": "2.0.0",
      "model_name": "LayoutModel",
      "state": {
       "margin": "0px 0px 10px 0px"
      }
     },
     "773d4e6e938e4a8eb77110d0f6e1192f": {
      "model_module": "@jupyter-widgets/base",
      "model_module_version": "2.0.0",
      "model_name": "LayoutModel",
      "state": {
       "width": "190px"
      }
     },
     "895e3ca53122434f914a2a4bd4ef3c90": {
      "model_module": "@jupyter-widgets/controls",
      "model_module_version": "2.0.0",
      "model_name": "HTMLStyleModel",
      "state": {
       "description_width": "",
       "font_size": null,
       "text_color": null
      }
     },
     "949a555a1af74e15aef7ea432320fa50": {
      "model_module": "@jupyter-widgets/base",
      "model_module_version": "2.0.0",
      "model_name": "LayoutModel",
      "state": {
       "width": "145px"
      }
     },
     "9aa22188e51242ec882995986a02053a": {
      "model_module": "@jupyter-widgets/controls",
      "model_module_version": "2.0.0",
      "model_name": "HTMLStyleModel",
      "state": {
       "description_width": "",
       "font_size": null,
       "text_color": null
      }
     },
     "9aedccd3f9cf42d8b3361d3df49aae49": {
      "model_module": "@jupyter-widgets/controls",
      "model_module_version": "2.0.0",
      "model_name": "ButtonStyleModel",
      "state": {
       "font_family": null,
       "font_size": null,
       "font_style": null,
       "font_variant": null,
       "font_weight": null,
       "text_color": null,
       "text_decoration": null
      }
     },
     "b49a59032a7f4bdea02a6c0d14e28697": {
      "model_module": "@jupyter-widgets/base",
      "model_module_version": "2.0.0",
      "model_name": "LayoutModel",
      "state": {
       "grid_area": "right",
       "padding": "0px 0px 0px 0px",
       "width": "70px"
      }
     },
     "b63761d6a22a4ba58856480cdf674740": {
      "model_module": "@jupyter-widgets/base",
      "model_module_version": "2.0.0",
      "model_name": "LayoutModel",
      "state": {
       "grid_template_areas": "\n                                       \". . . . right \"\n                                        ",
       "grid_template_columns": "20% 20% 20% 20% 20%",
       "width": "100%"
      }
     },
     "db14afefe1c1444780405792aaa8b332": {
      "model_module": "@jupyter-widgets/base",
      "model_module_version": "2.0.0",
      "model_name": "LayoutModel",
      "state": {
       "width": "95px"
      }
     },
     "ed7221c7aa8b4d7fad3efd81a8a6bfb0": {
      "model_module": "@jupyter-widgets/controls",
      "model_module_version": "2.0.0",
      "model_name": "HTMLModel",
      "state": {
       "layout": "IPY_MODEL_1ce04d97fb224c77b5b28c7de9468ab9",
       "style": "IPY_MODEL_895e3ca53122434f914a2a4bd4ef3c90",
       "value": "<h5>Message</h5>"
      }
     },
     "fa6a7db35a2d42e2b8776b0db738d26d": {
      "model_module": "@jupyter-widgets/controls",
      "model_module_version": "2.0.0",
      "model_name": "HTMLModel",
      "state": {
       "layout": "IPY_MODEL_773d4e6e938e4a8eb77110d0f6e1192f",
       "style": "IPY_MODEL_fbee631b804f4bccb5d2e49ab335d85e",
       "value": "<h5>Job ID</h5>"
      }
     },
     "fbee631b804f4bccb5d2e49ab335d85e": {
      "model_module": "@jupyter-widgets/controls",
      "model_module_version": "2.0.0",
      "model_name": "HTMLStyleModel",
      "state": {
       "description_width": "",
       "font_size": null,
       "text_color": null
      }
     }
    },
    "version_major": 2,
    "version_minor": 0
   }
  }
 },
 "nbformat": 4,
 "nbformat_minor": 5
}
