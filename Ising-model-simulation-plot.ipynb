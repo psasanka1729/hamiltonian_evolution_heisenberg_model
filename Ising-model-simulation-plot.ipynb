{
 "cells": [
  {
   "cell_type": "code",
   "execution_count": 1,
   "id": "a6601389-5f62-4da9-992c-7c0614805625",
   "metadata": {
    "tags": []
   },
   "outputs": [
    {
     "name": "stderr",
     "output_type": "stream",
     "text": [
      "/tmp/ipykernel_80/3933405025.py:13: DeprecationWarning: The qiskit.IBMQ entrypoint and the qiskit-ibmq-provider package (accessible from 'qiskit.providers.ibmq`) are deprecated and will be removed in a future release. Instead you should use the qiskit-ibm-provider package which is accessible from 'qiskit_ibm_provider'. You can install it with 'pip install qiskit_ibm_provider'. Just replace 'qiskit.IBMQ' with 'qiskit_ibm_provider.IBMProvider'\n",
      "  provider = IBMQ.load_account()\n"
     ]
    }
   ],
   "source": [
    "# Importing standard Qiskit libraries:\n",
    "import numpy as np     \n",
    "from qiskit import QuantumCircuit, transpile, Aer, IBMQ, execute, assemble\n",
    "from qiskit.quantum_info import Statevector\n",
    "from qiskit.providers.ibmq import least_busy\n",
    "from qiskit.tools.jupyter import *\n",
    "from qiskit.visualization import *\n",
    "from qiskit import QuantumRegister\n",
    "from qiskit import ClassicalRegister\n",
    "from ibm_quantum_widgets import *\n",
    "\n",
    "# Loading your IBM Quantum account(s):\n",
    "provider = IBMQ.load_account()\n"
   ]
  },
  {
   "cell_type": "code",
   "execution_count": 2,
   "id": "4e8a6746-0dad-4ee9-81d2-1cc7e9dca83d",
   "metadata": {
    "tags": []
   },
   "outputs": [],
   "source": [
    "# Number of qubits in the system.\n",
    "L = 2"
   ]
  },
  {
   "cell_type": "code",
   "execution_count": 3,
   "id": "619812dc-780d-4ea0-8920-67375645d2a4",
   "metadata": {},
   "outputs": [],
   "source": [
    "def zz_circuit(qubit_0,qubit_1,delta):\n",
    "    qc_zz = QuantumCircuit(L)\n",
    "    qc_zz.cx(qubit_0,qubit_1)\n",
    "    qc_zz.rz(2*delta,qubit_1)\n",
    "    qc_zz.cx(qubit_0,qubit_1)\n",
    "    return qc_zz"
   ]
  },
  {
   "cell_type": "code",
   "execution_count": 4,
   "id": "1aaf0129-9ea6-47bd-a138-babc33947d5b",
   "metadata": {},
   "outputs": [],
   "source": [
    "def xx_circuit(qubit_0,qubit_1,delta):\n",
    "    qc_xx = QuantumCircuit(L)\n",
    "    qc_xx.h(qubit_0)\n",
    "    qc_xx.h(qubit_1)\n",
    "    qc_xx.cx(qubit_0,qubit_1)\n",
    "    qc_xx.rz(2*delta,qubit_1)\n",
    "    qc_xx.cx(qubit_0,qubit_1)\n",
    "    qc_xx.h(qubit_0)\n",
    "    qc_xx.h(qubit_1)\n",
    "    return qc_xx"
   ]
  },
  {
   "cell_type": "code",
   "execution_count": 5,
   "id": "a6d877ce-5ea2-4443-b5c7-2eca1398a1b5",
   "metadata": {},
   "outputs": [],
   "source": [
    "def yy_circuit(qubit_0,qubit_1,delta):\n",
    "    qc_yy = QuantumCircuit(L)\n",
    "    qc_yy.sdg(qubit_0)\n",
    "    qc_yy.sdg(qubit_1)\n",
    "    qc_yy.h(qubit_0)\n",
    "    qc_yy.h(qubit_1)\n",
    "    qc_yy.cx(qubit_0,qubit_1)\n",
    "    qc_yy.rz(2*delta,qubit_1)\n",
    "    qc_yy.cx(qubit_0,qubit_1)\n",
    "    qc_yy.h(qubit_0)\n",
    "    qc_yy.h(qubit_1)\n",
    "    qc_yy.s(qubit_0)\n",
    "    qc_yy.s(qubit_1)\n",
    "    return qc_yy"
   ]
  },
  {
   "cell_type": "code",
   "execution_count": 6,
   "id": "afda92ea-0681-4214-8530-16c7ab9a3fbf",
   "metadata": {},
   "outputs": [],
   "source": [
    "r\"\"\"\n",
    "The following function constructs the quantum circuit for one time step for the complete Hamiltonian.\n",
    "\"\"\"\n",
    "def one_time_step(time_step):\n",
    "    \n",
    "    qr = QuantumRegister(L,\"q\")\n",
    "    \n",
    "    # Create the ancilla register\n",
    "    #anc = QuantumRegister(1,\"ancilla\")\n",
    "    \n",
    "    # Create the quantum circuit\n",
    "    qc = QuantumCircuit(qr)\n",
    "    \n",
    "    # Odd bonds are constructed.\n",
    "    for i in range(0,L-1,2):\n",
    "        qc = qc.compose(xx_circuit(i,i+1,time_step))\n",
    "    \n",
    "    qc.barrier()\n",
    "    for i in range(0,L-1,2):\n",
    "        qc = qc.compose(yy_circuit(i,i+1,time_step))   \n",
    "        \n",
    "    qc.barrier()\n",
    "    for i in range(0,L-1,2):\n",
    "        qc = qc.compose(zz_circuit(i,i+1,time_step))  \n",
    "        \n",
    "    qc.barrier()\n",
    "    # Even bonds are constructed.\n",
    "    for i in range(1,L-1,2):\n",
    "        qc = qc.compose(xx_circuit(i,i+1,time_step))  \n",
    "    \n",
    "    qc.barrier()\n",
    "    for i in range(1,L-1,2):\n",
    "        qc = qc.compose(yy_circuit(i,i+1,time_step)) \n",
    "        \n",
    "    qc.barrier()\n",
    "    for i in range(1,L-1,2):\n",
    "        qc = qc.compose(zz_circuit(i,i+1,time_step))    \n",
    "    return qc#.draw(\"mpl\",scale=1.5)\n",
    "    \n",
    "    \n",
    "    \n",
    "#one_time_step(1.e-5).draw(\"mpl\",scale=1.5)"
   ]
  },
  {
   "cell_type": "code",
   "execution_count": 7,
   "id": "5e9f7160-385c-492e-b198-4454d08cab20",
   "metadata": {},
   "outputs": [],
   "source": [
    "def complete_time_evolution_circuit(time_step,duration):\n",
    "    steps = int(duration/time_step)\n",
    "    qr = QuantumRegister(L,\"q\")\n",
    "    \n",
    "    # Create the ancilla register\n",
    "    #anc = QuantumRegister(1,\"ancilla\")\n",
    "    \n",
    "    # Create a classical register for classical bits\n",
    "    classical_register = ClassicalRegister(2,\"c\")\n",
    "    # Create the quantum circuit\n",
    "    qc = QuantumCircuit(qr, classical_register)\n",
    "    qc.initialize([0,1],0)\n",
    "    qc.initialize([1,0],1)\n",
    "    for i in range(steps):\n",
    "        qc = qc.compose(one_time_step(time_step))\n",
    "    #qc.h(1)\n",
    "    qc.measure(0,0)\n",
    "    qc.measure(1,1)\n",
    "    return qc\n",
    "J = 1\n",
    "delta_t = J/100\n",
    "#complete_time_evolution_circuit(delta_t,1).draw(\"mpl\",scale=1.5)"
   ]
  },
  {
   "cell_type": "code",
   "execution_count": 8,
   "id": "c23a5d5b-5b6f-4641-a965-f35e86cd09aa",
   "metadata": {
    "tags": []
   },
   "outputs": [
    {
     "data": {
      "image/png": "[encoded data removed]",
      "text/plain": [
       "<Figure size 700x500 with 1 Axes>"
      ]
     },
     "execution_count": 8,
     "metadata": {},
     "output_type": "execute_result"
    }
   ],
   "source": [
    "QC = complete_time_evolution_circuit(delta_t,4*J/10)\n",
    "# Simulating the Circuit:\n",
    "backend = Aer.get_backend('qasm_simulator')\n",
    "job = execute(QC, backend, shots = 1024)\n",
    "result = job.result()\n",
    "counts = result.get_counts()\n",
    "plot_histogram(counts)"
   ]
  },
  {
   "cell_type": "code",
   "execution_count": 9,
   "id": "b10c8316-36b1-49fa-bc73-e4e1249010dc",
   "metadata": {
    "tags": []
   },
   "outputs": [
    {
     "name": "stderr",
     "output_type": "stream",
     "text": [
      "ibmqfactory.load_account:WARNING:2023-07-19 04:30:27,751: Credentials are already in use. The existing account in the session will be replaced.\n"
     ]
    },
    {
     "name": "stdout",
     "output_type": "stream",
     "text": [
      "Running on current least busy device:  ibmq_belem\n"
     ]
    }
   ],
   "source": [
    "\n",
    "# Load IBM Q account and get the least busy backend device\n",
    "provider = IBMQ.load_account()\n",
    "provider = IBMQ.get_provider(\"ibm-q\")\n",
    "device = least_busy(provider.backends(filters=lambda x: int(x.configuration().n_qubits) >= 3 and \n",
    "                                   not x.configuration().simulator and x.status().operational==True))\n",
    "print(\"Running on current least busy device: \", device)"
   ]
  },
  {
   "cell_type": "code",
   "execution_count": 10,
   "id": "2b7856b5-4830-4476-b31c-cdf0fbdebad2",
   "metadata": {},
   "outputs": [],
   "source": [
    "import time\n",
    "start = time.time()"
   ]
  },
  {
   "cell_type": "code",
   "execution_count": null,
   "id": "b7657a95-03c5-4d91-b45a-e8fc7522f2c6",
   "metadata": {
    "tags": []
   },
   "outputs": [
    {
     "name": "stdout",
     "output_type": "stream",
     "text": [
      "Job Status: job is queued (None)"
     ]
    }
   ],
   "source": [
    "# Run our circuit on the least busy backend. Monitor the execution of the job in the queue\n",
    "from qiskit.tools.monitor import job_monitor\n",
    "transpiled_circuit = transpile(QC, device, optimization_level=1)\n",
    "job = device.run(transpiled_circuit)\n",
    "job_monitor(job, interval=1)"
   ]
  },
  {
   "cell_type": "code",
   "execution_count": null,
   "id": "f8e14b55-57f2-411e-a97a-1c1b1f37ecd2",
   "metadata": {},
   "outputs": [],
   "source": [
    "time_taken = time.time()-start\n",
    "print(\"Time taken = \",time_taken/60,\"minutes\")"
   ]
  },
  {
   "cell_type": "code",
   "execution_count": null,
   "id": "bdc25b6b-cd95-45eb-83fa-09da0d2f7c71",
   "metadata": {
    "tags": []
   },
   "outputs": [],
   "source": [
    "# Getting the results from the computation:\n",
    "results = job.result()\n",
    "answer = results.get_counts(transpiled_circuit)\n",
    "plot_histogram(answer)"
   ]
  },
  {
   "cell_type": "code",
   "execution_count": null,
   "id": "815b97fc-4ae3-4a5f-95d0-cf99590e72b7",
   "metadata": {},
   "outputs": [],
   "source": [
    "answer"
   ]
  }
 ],
 "metadata": {
  "kernelspec": {
   "display_name": "Python 3 (ipykernel)",
   "language": "python",
   "name": "python3"
  },
  "language_info": {
   "codemirror_mode": {
    "name": "ipython",
    "version": 3
   },
   "file_extension": ".py",
   "mimetype": "text/x-python",
   "name": "python",
   "nbconvert_exporter": "python",
   "pygments_lexer": "ipython3",
   "version": "3.10.8"
  },
  "widgets": {
   "application/vnd.jupyter.widget-state+json": {
    "state": {
     "079c090471ae4f09b8631af80ca43ccb": {
      "model_module": "@jupyter-widgets/base",
      "model_module_version": "2.0.0",
      "model_name": "LayoutModel",
      "state": {
       "max_width": "700px",
       "min_width": "700px"
      }
     },
     "08ab45a6e36940188565455cf2c14e2e": {
      "model_module": "@jupyter-widgets/controls",
      "model_module_version": "2.0.0",
      "model_name": "HTMLStyleModel",
      "state": {
       "description_width": "",
       "font_size": null,
       "text_color": null
      }
     },
     "09665d700ff74acbb7c285fa15ed7198": {
      "model_module": "@jupyter-widgets/controls",
      "model_module_version": "2.0.0",
      "model_name": "ButtonModel",
      "state": {
       "button_style": "primary",
       "description": "Clear",
       "layout": "IPY_MODEL_d755deef190246d99f7a3a0bce3d8f8a",
       "style": "IPY_MODEL_116731aa24ff4acb84cbfac3eaaa057a",
       "tooltip": null
      }
     },
     "0a378c3bbfdc4b929f34d9706bb8d4ee": {
      "model_module": "@jupyter-widgets/controls",
      "model_module_version": "2.0.0",
      "model_name": "HTMLStyleModel",
      "state": {
       "description_width": "",
       "font_size": null,
       "text_color": null
      }
     },
     "116731aa24ff4acb84cbfac3eaaa057a": {
      "model_module": "@jupyter-widgets/controls",
      "model_module_version": "2.0.0",
      "model_name": "ButtonStyleModel",
      "state": {
       "font_family": null,
       "font_size": null,
       "font_style": null,
       "font_variant": null,
       "font_weight": null,
       "text_color": null,
       "text_decoration": null
      }
     },
     "13c705241d0c44f6bb8fa0bdf7538966": {
      "model_module": "@jupyter-widgets/controls",
      "model_module_version": "2.0.0",
      "model_name": "HTMLModel",
      "state": {
       "layout": "IPY_MODEL_e086c0c5676940768d6995b3587ca029",
       "style": "IPY_MODEL_6a52381f7a724bb788913b7f5f7f6583",
       "value": "<h5>Queue</h5>"
      }
     },
     "1872331cec17474d9750fa6d91fbf81d": {
      "model_module": "@jupyter-widgets/controls",
      "model_module_version": "2.0.0",
      "model_name": "HTMLModel",
      "state": {
       "layout": "IPY_MODEL_5d98413e00a34e398bb67edad7277a25",
       "style": "IPY_MODEL_08ab45a6e36940188565455cf2c14e2e",
       "value": "<h5>Message</h5>"
      }
     },
     "30e7f2304fcf429eae8eb49bbbbe4755": {
      "model_module": "@jupyter-widgets/base",
      "model_module_version": "2.0.0",
      "model_name": "LayoutModel",
      "state": {
       "margin": "0px 0px 10px 0px"
      }
     },
     "3260ffa93e444fc8b3a3a2a2d4616f6b": {
      "model_module": "@jupyter-widgets/controls",
      "model_module_version": "2.0.0",
      "model_name": "HTMLModel",
      "state": {
       "layout": "IPY_MODEL_74003875c178440cac7a4028eaca0663",
       "style": "IPY_MODEL_c07c5dfee30542b58415acecf3f806ed",
       "value": "ibmq_belem"
      }
     },
     "35eff7db82e44a0195b988805d25d22a": {
      "model_module": "@jupyter-widgets/controls",
      "model_module_version": "2.0.0",
      "model_name": "HTMLModel",
      "state": {
       "layout": "IPY_MODEL_d91577e302074ad29d80cda1e0b636fa",
       "style": "IPY_MODEL_5f0d1332b7c4430380850788249fb16b",
       "value": "cirmdrsb0ilk0bcfbk60"
      }
     },
     "44a8f7c67d47412994b2406075584f30": {
      "model_module": "@jupyter-widgets/controls",
      "model_module_version": "2.0.0",
      "model_name": "HTMLStyleModel",
      "state": {
       "description_width": "",
       "font_size": null,
       "text_color": null
      }
     },
     "4b57219c7e314088a3d3168a4591ea4c": {
      "model_module": "@jupyter-widgets/controls",
      "model_module_version": "2.0.0",
      "model_name": "ButtonModel",
      "state": {
       "icon": "close",
       "layout": "IPY_MODEL_e3cb6fee99164d8b93685856e439204f",
       "style": "IPY_MODEL_f81b9fc3be834b69be61eba1f6b6133f",
       "tooltip": null
      }
     },
     "4c093576e71b4e809b341cb816e838eb": {
      "model_module": "@jupyter-widgets/base",
      "model_module_version": "2.0.0",
      "model_name": "LayoutModel",
      "state": {
       "width": "95px"
      }
     },
     "53b3cb2c84224335bc037fdc640b995a": {
      "model_module": "@jupyter-widgets/controls",
      "model_module_version": "2.0.0",
      "model_name": "HTMLModel",
      "state": {
       "layout": "IPY_MODEL_8e41bdde33b6438b9ec7bcfaf8b647db",
       "style": "IPY_MODEL_d7b56828ab8a49f9b50df14266307d95",
       "value": "<h5>Backend</h5>"
      }
     },
     "56340ab3c2df4cfd85e3c20640ffe788": {
      "model_module": "@jupyter-widgets/controls",
      "model_module_version": "2.0.0",
      "model_name": "HTMLStyleModel",
      "state": {
       "description_width": "",
       "font_size": null,
       "text_color": null
      }
     },
     "5987937d962b4f969464b0671423c055": {
      "model_module": "@jupyter-widgets/controls",
      "model_module_version": "2.0.0",
      "model_name": "HTMLModel",
      "state": {
       "layout": "IPY_MODEL_ebbde111bb994ee08bd907f9ea5230b1",
       "style": "IPY_MODEL_44a8f7c67d47412994b2406075584f30",
       "value": "-"
      }
     },
     "5cafa03d7e8746f09b346b20d6f8901e": {
      "model_module": "@jupyter-widgets/controls",
      "model_module_version": "2.0.0",
      "model_name": "HTMLStyleModel",
      "state": {
       "description_width": "",
       "font_size": null,
       "text_color": null
      }
     },
     "5d98413e00a34e398bb67edad7277a25": {
      "model_module": "@jupyter-widgets/base",
      "model_module_version": "2.0.0",
      "model_name": "LayoutModel",
      "state": {}
     },
     "5f0d1332b7c4430380850788249fb16b": {
      "model_module": "@jupyter-widgets/controls",
      "model_module_version": "2.0.0",
      "model_name": "HTMLStyleModel",
      "state": {
       "description_width": "",
       "font_size": null,
       "text_color": null
      }
     },
     "65ea5938ef104ddebe2bdbd00add5ef2": {
      "model_module": "@jupyter-widgets/controls",
      "model_module_version": "2.0.0",
      "model_name": "HTMLStyleModel",
      "state": {
       "description_width": "",
       "font_size": null,
       "text_color": null
      }
     },
     "66b058d0402c4c1f9579d93b6ff95612": {
      "model_module": "@jupyter-widgets/controls",
      "model_module_version": "2.0.0",
      "model_name": "GridBoxModel",
      "state": {
       "children": [
        "IPY_MODEL_09665d700ff74acbb7c285fa15ed7198"
       ],
       "layout": "IPY_MODEL_d0f8d4995c8d48b9b74f90f488fb4082"
      }
     },
     "6a52381f7a724bb788913b7f5f7f6583": {
      "model_module": "@jupyter-widgets/controls",
      "model_module_version": "2.0.0",
      "model_name": "HTMLStyleModel",
      "state": {
       "description_width": "",
       "font_size": null,
       "text_color": null
      }
     },
     "72bba1a6e415408aaf5f1f8efb116dd2": {
      "model_module": "@jupyter-widgets/controls",
      "model_module_version": "2.0.0",
      "model_name": "HTMLStyleModel",
      "state": {
       "description_width": "",
       "font_size": null,
       "text_color": null
      }
     },
     "74003875c178440cac7a4028eaca0663": {
      "model_module": "@jupyter-widgets/base",
      "model_module_version": "2.0.0",
      "model_name": "LayoutModel",
      "state": {
       "width": "145px"
      }
     },
     "74c03161fe2b4ac4a0a29e8143fc3b8b": {
      "model_module": "@jupyter-widgets/controls",
      "model_module_version": "2.0.0",
      "model_name": "HTMLModel",
      "state": {
       "layout": "IPY_MODEL_962e3e5e0fbe41d896e24bdb29c70d1f",
       "style": "IPY_MODEL_72bba1a6e415408aaf5f1f8efb116dd2",
       "value": "<p style=white-space:nowrap;>job is queued</p>"
      }
     },
     "7845dc1e05de49eaa18cc6224d0efe49": {
      "model_module": "@jupyter-widgets/controls",
      "model_module_version": "2.0.0",
      "model_name": "HTMLModel",
      "state": {
       "layout": "IPY_MODEL_91045af453fd405b983b94fec990a086",
       "style": "IPY_MODEL_5cafa03d7e8746f09b346b20d6f8901e",
       "value": "QUEUED"
      }
     },
     "8a0888b057fd4d8c9a308c94832c9ba5": {
      "model_module": "@jupyter-widgets/base",
      "model_module_version": "2.0.0",
      "model_name": "LayoutModel",
      "state": {
       "width": "190px"
      }
     },
     "8e41bdde33b6438b9ec7bcfaf8b647db": {
      "model_module": "@jupyter-widgets/base",
      "model_module_version": "2.0.0",
      "model_name": "LayoutModel",
      "state": {
       "width": "145px"
      }
     },
     "8f738d060d484b3a9b04a45e4d3cac50": {
      "model_module": "@jupyter-widgets/controls",
      "model_module_version": "2.0.0",
      "model_name": "HTMLModel",
      "state": {
       "layout": "IPY_MODEL_4c093576e71b4e809b341cb816e838eb",
       "style": "IPY_MODEL_65ea5938ef104ddebe2bdbd00add5ef2",
       "value": "<h5>Status</h5>"
      }
     },
     "91045af453fd405b983b94fec990a086": {
      "model_module": "@jupyter-widgets/base",
      "model_module_version": "2.0.0",
      "model_name": "LayoutModel",
      "state": {
       "width": "95px"
      }
     },
     "962e3e5e0fbe41d896e24bdb29c70d1f": {
      "model_module": "@jupyter-widgets/base",
      "model_module_version": "2.0.0",
      "model_name": "LayoutModel",
      "state": {}
     },
     "b4735a5fe0664ac2b2fdd3944942f7b1": {
      "model_module": "@jupyter-widgets/controls",
      "model_module_version": "2.0.0",
      "model_name": "HTMLModel",
      "state": {
       "layout": "IPY_MODEL_8a0888b057fd4d8c9a308c94832c9ba5",
       "style": "IPY_MODEL_56340ab3c2df4cfd85e3c20640ffe788",
       "value": "<h5>Job ID</h5>"
      }
     },
     "c07c5dfee30542b58415acecf3f806ed": {
      "model_module": "@jupyter-widgets/controls",
      "model_module_version": "2.0.0",
      "model_name": "HTMLStyleModel",
      "state": {
       "description_width": "",
       "font_size": null,
       "text_color": null
      }
     },
     "c7df2bb0378f4e57b6d5cf20dd9f9a9d": {
      "model_module": "@jupyter-widgets/controls",
      "model_module_version": "2.0.0",
      "model_name": "HTMLModel",
      "state": {
       "layout": "IPY_MODEL_30e7f2304fcf429eae8eb49bbbbe4755",
       "style": "IPY_MODEL_0a378c3bbfdc4b929f34d9706bb8d4ee",
       "value": "<p style='font-family: IBM Plex Sans, Arial, Helvetica, sans-serif; font-size: 20px; font-weight: medium;'>Circuit Properties</p>"
      }
     },
     "cf1fa97d90dd4e4d94dca42ea0259303": {
      "model_module": "@jupyter-widgets/controls",
      "model_module_version": "2.0.0",
      "model_name": "HBoxModel",
      "state": {
       "children": [
        "IPY_MODEL_b4735a5fe0664ac2b2fdd3944942f7b1",
        "IPY_MODEL_53b3cb2c84224335bc037fdc640b995a",
        "IPY_MODEL_8f738d060d484b3a9b04a45e4d3cac50",
        "IPY_MODEL_13c705241d0c44f6bb8fa0bdf7538966",
        "IPY_MODEL_1872331cec17474d9750fa6d91fbf81d"
       ],
       "layout": "IPY_MODEL_d711d01378da4521a3463df4ee7650c6"
      }
     },
     "d0f8d4995c8d48b9b74f90f488fb4082": {
      "model_module": "@jupyter-widgets/base",
      "model_module_version": "2.0.0",
      "model_name": "LayoutModel",
      "state": {
       "grid_template_areas": "\n                                       \". . . . right \"\n                                        ",
       "grid_template_columns": "20% 20% 20% 20% 20%",
       "width": "100%"
      }
     },
     "d711d01378da4521a3463df4ee7650c6": {
      "model_module": "@jupyter-widgets/base",
      "model_module_version": "2.0.0",
      "model_name": "LayoutModel",
      "state": {
       "margin": "0px 0px 0px 37px",
       "width": "600px"
      }
     },
     "d755deef190246d99f7a3a0bce3d8f8a": {
      "model_module": "@jupyter-widgets/base",
      "model_module_version": "2.0.0",
      "model_name": "LayoutModel",
      "state": {
       "grid_area": "right",
       "padding": "0px 0px 0px 0px",
       "width": "70px"
      }
     },
     "d7b56828ab8a49f9b50df14266307d95": {
      "model_module": "@jupyter-widgets/controls",
      "model_module_version": "2.0.0",
      "model_name": "HTMLStyleModel",
      "state": {
       "description_width": "",
       "font_size": null,
       "text_color": null
      }
     },
     "d91577e302074ad29d80cda1e0b636fa": {
      "model_module": "@jupyter-widgets/base",
      "model_module_version": "2.0.0",
      "model_name": "LayoutModel",
      "state": {
       "width": "190px"
      }
     },
     "e086c0c5676940768d6995b3587ca029": {
      "model_module": "@jupyter-widgets/base",
      "model_module_version": "2.0.0",
      "model_name": "LayoutModel",
      "state": {
       "width": "70px"
      }
     },
     "e3cb6fee99164d8b93685856e439204f": {
      "model_module": "@jupyter-widgets/base",
      "model_module_version": "2.0.0",
      "model_name": "LayoutModel",
      "state": {
       "margin": "0px 5px 0px 0px",
       "width": "32px"
      }
     },
     "ea18136d8a4f40a38469c9e004c8b9d9": {
      "model_module": "@jupyter-widgets/controls",
      "model_module_version": "2.0.0",
      "model_name": "HBoxModel",
      "state": {
       "children": [
        "IPY_MODEL_4b57219c7e314088a3d3168a4591ea4c",
        "IPY_MODEL_35eff7db82e44a0195b988805d25d22a",
        "IPY_MODEL_3260ffa93e444fc8b3a3a2a2d4616f6b",
        "IPY_MODEL_7845dc1e05de49eaa18cc6224d0efe49",
        "IPY_MODEL_5987937d962b4f969464b0671423c055",
        "IPY_MODEL_74c03161fe2b4ac4a0a29e8143fc3b8b"
       ],
       "layout": "IPY_MODEL_079c090471ae4f09b8631af80ca43ccb"
      }
     },
     "ebbde111bb994ee08bd907f9ea5230b1": {
      "model_module": "@jupyter-widgets/base",
      "model_module_version": "2.0.0",
      "model_name": "LayoutModel",
      "state": {
       "width": "70px"
      }
     },
     "f81b9fc3be834b69be61eba1f6b6133f": {
      "model_module": "@jupyter-widgets/controls",
      "model_module_version": "2.0.0",
      "model_name": "ButtonStyleModel",
      "state": {
       "button_color": "white",
       "font_family": null,
       "font_size": null,
       "font_style": null,
       "font_variant": null,
       "font_weight": null,
       "text_color": null,
       "text_decoration": null
      }
     }
    },
    "version_major": 2,
    "version_minor": 0
   }
  }
 },
 "nbformat": 4,
 "nbformat_minor": 5
}
