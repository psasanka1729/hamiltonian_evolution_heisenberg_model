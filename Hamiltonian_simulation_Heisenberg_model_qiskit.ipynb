{
 "cells": [
  {
   "cell_type": "code",
   "execution_count": 178,
   "id": "834e4449-b479-4b1a-8e65-5c6b407edec7",
   "metadata": {},
   "outputs": [],
   "source": [
    "import numpy as np\n",
    "from scipy.linalg import expm\n",
    "from qiskit import*"
   ]
  },
  {
   "cell_type": "markdown",
   "id": "4c5e2940-2e08-4573-a9ad-009fa444e5fa",
   "metadata": {},
   "source": [
    "# Hamiltonian\n",
    "\n",
    "$$ H = -J\\sum^{L-1}_{j=1}(X_{j}X_{j+1}+Y_{j}Y_{j+1}+Z_{j}Z_{j+1})  = -J\\sum_{\\rm odd} H -J \\sum_{\\rm even} H $$\n",
    "Time evolution\n",
    "$$ U = e^{-iH\\delta} \\approx e^{-iH_{\\rm odd}\\delta} e^{-iH_{\\rm even}\\delta} = (e^{-iH_{12}\\delta} e^{-iH_{34}\\delta}\\cdots)(e^{-iH_{23}\\delta} e^{-iH_{45}\\delta}\\cdots)$$\n"
   ]
  },
  {
   "cell_type": "markdown",
   "id": "5407f7eb-e70b-42ab-9f96-fa3a21819a73",
   "metadata": {},
   "source": [
    "# Implementing the gate: $\\exp(-iJ(Z_{1} \\otimes Z_{2}) \\delta)$\n",
    "This can be done using the followng circuit (Source: https://arxiv.org/abs/1001.3855)"
   ]
  },
  {
   "cell_type": "code",
   "execution_count": 180,
   "id": "4ace5945-403a-4141-9bf1-ac53bcc043bd",
   "metadata": {},
   "outputs": [],
   "source": [
    "# Number of qubits in the system.\n",
    "L = 4"
   ]
  },
  {
   "cell_type": "code",
   "execution_count": 181,
   "id": "1a23da49-be46-4cc8-9d06-ea4645c846bd",
   "metadata": {},
   "outputs": [],
   "source": [
    "def zz_circuit(qubit_0,qubit_1,delta):\n",
    "    qc_zz = QuantumCircuit(L)\n",
    "    qc_zz.cx(qubit_0,qubit_1)\n",
    "    qc_zz.rz(2*delta,qubit_1)\n",
    "    qc_zz.cx(qubit_0,qubit_1)\n",
    "    return qc_zz#.draw(\"mpl\",scale=1.5)"
   ]
  },
  {
   "cell_type": "markdown",
   "id": "6c79df8a-be7e-4548-8ce2-7d85f2a6b41a",
   "metadata": {
    "tags": []
   },
   "source": [
    "# Implementing the gate: $\\exp(-iJ(X_{1} \\otimes X_{2}) \\delta)$\n",
    "The following identity is used (Source: https://learn.microsoft.com/en-us/azure/quantum/user-guide/libraries/chemistry/concepts/algorithms)\n",
    "$$\\exp(-iJ(X_{1} \\otimes X_{2}) \\delta) = (H \\otimes H) \\exp(-i(Z \\otimes Z)\\delta) (H \\otimes H)$$"
   ]
  },
  {
   "cell_type": "code",
   "execution_count": 182,
   "id": "2ccb11e4-42f2-49f7-bfd5-0cf13f8b27da",
   "metadata": {},
   "outputs": [],
   "source": [
    "def xx_circuit(qubit_0,qubit_1,delta):\n",
    "    qc_xx = QuantumCircuit(L)\n",
    "    qc_xx.h(qubit_0)\n",
    "    qc_xx.h(qubit_1)\n",
    "    qc_xx.cx(qubit_0,qubit_1)\n",
    "    qc_xx.rz(2*delta,qubit_1)\n",
    "    qc_xx.cx(qubit_0,qubit_1)\n",
    "    qc_xx.h(qubit_0)\n",
    "    qc_xx.h(qubit_1)\n",
    "    return qc_xx#.draw(\"mpl\",scale=1.5)"
   ]
  },
  {
   "cell_type": "markdown",
   "id": "06355153-faea-4013-817f-6e39af9538df",
   "metadata": {},
   "source": [
    "# Implementing the gate: $\\exp(-iJ(Y_{1} \\otimes Y_{2}) \\delta)$"
   ]
  },
  {
   "cell_type": "code",
   "execution_count": 183,
   "id": "82511e66-eed7-480e-bd8e-44ef0000a185",
   "metadata": {},
   "outputs": [],
   "source": [
    "def yy_circuit(qubit_0,qubit_1,delta):\n",
    "    qc_yy = QuantumCircuit(L)\n",
    "    qc_yy.sdg(qubit_0)\n",
    "    qc_yy.sdg(qubit_1)\n",
    "    qc_yy.h(qubit_0)\n",
    "    qc_yy.h(qubit_1)\n",
    "    qc_yy.cx(qubit_0,qubit_1)\n",
    "    qc_yy.rz(2*delta,qubit_1)\n",
    "    qc_yy.cx(qubit_0,qubit_1)\n",
    "    qc_yy.h(qubit_0)\n",
    "    qc_yy.h(qubit_1)\n",
    "    qc_yy.s(qubit_0)\n",
    "    qc_yy.s(qubit_1)\n",
    "    return qc_yy#.draw(\"mpl\",scale=1.5)"
   ]
  },
  {
   "cell_type": "markdown",
   "id": "5ccb8138-30f2-45c4-9fb5-f5f1d8b42b12",
   "metadata": {},
   "source": [
    "# Circuit for one time step"
   ]
  },
  {
   "cell_type": "code",
   "execution_count": 207,
   "id": "0d7c07be-f896-4694-a55b-b61948305de7",
   "metadata": {},
   "outputs": [
    {
     "data": {
      "text/plain": [
       "<qiskit.circuit.quantumcircuit.QuantumCircuit at 0x7f7efd6cd6d0>"
      ]
     },
     "execution_count": 207,
     "metadata": {},
     "output_type": "execute_result"
    }
   ],
   "source": [
    "r\"\"\"\n",
    "The following function constructs the quantum circuit for one time step for the complete Hamiltonian.\n",
    "\"\"\"\n",
    "def one_time_step(time_step):\n",
    "    qc = QuantumCircuit(L)\n",
    "    # Odd bonds are constructed.\n",
    "    for i in range(0,L-1,2):\n",
    "        qc = qc.compose(xx_circuit(i,i+1,time_step))\n",
    "    \n",
    "    qc.barrier()\n",
    "    for i in range(0,L-1,2):\n",
    "        qc = qc.compose(yy_circuit(i,i+1,time_step))   \n",
    "        \n",
    "    qc.barrier()\n",
    "    for i in range(0,L-1,2):\n",
    "        qc = qc.compose(zz_circuit(i,i+1,time_step))  \n",
    "        \n",
    "    qc.barrier()\n",
    "    # Even bonds are constructed.\n",
    "    for i in range(1,L-1,2):\n",
    "        qc = qc.compose(xx_circuit(i,i+1,time_step))  \n",
    "    \n",
    "    qc.barrier()\n",
    "    for i in range(1,L-1,2):\n",
    "        qc = qc.compose(yy_circuit(i,i+1,time_step)) \n",
    "        \n",
    "    qc.barrier()\n",
    "    for i in range(1,L-1,2):\n",
    "        qc = qc.compose(zz_circuit(i,i+1,time_step))    \n",
    "    return qc#.draw(\"mpl\",scale=1.5)\n",
    "one_time_step(1.e-5)"
   ]
  },
  {
   "cell_type": "code",
   "execution_count": 206,
   "id": "576d2c9c-0c56-4a19-b3e1-738d2470467f",
   "metadata": {},
   "outputs": [],
   "source": [
    "def time_evolution_circuit(time_step,duration):\n",
    "    steps = int(duration/time_step)\n",
    "    qc = QuantumCircuit(L)\n",
    "    for i in range(steps):\n",
    "        qc = qc.compose(one_time_step(time_step))\n",
    "    return qc"
   ]
  },
  {
   "cell_type": "markdown",
   "id": "dd749e5b-c30d-4075-b607-ffc14706af04",
   "metadata": {},
   "source": [
    "# Transpile circuit with basis gates"
   ]
  },
  {
   "cell_type": "code",
   "execution_count": 143,
   "id": "1b0f6128-8e48-447b-97e9-d61248fad47d",
   "metadata": {},
   "outputs": [
    {
     "data": {
      "image/png": "[encoded data removed]",
      "text/plain": [
       "<Figure size 942.378x216.72 with 1 Axes>"
      ]
     },
     "execution_count": 143,
     "metadata": {},
     "output_type": "execute_result"
    }
   ],
   "source": [
    "from qiskit import QuantumCircuit\n",
    "from qiskit.extensions import UnitaryGate\n",
    "\n",
    "delta = np.pi/5\n",
    "matrix = expm(-1j*np.kron(Pauli_z,Pauli_z)*delta)\n",
    "gate = UnitaryGate(matrix)\n",
    "\n",
    "circuit = QuantumCircuit(2)\n",
    "circuit.append(gate, [0, 1])\n",
    "transpiled_circuit = transpile(circuit,basis_gates = ['rx','cx','rz'],optimization_level=1)\n",
    "transpiled_circuit.draw(\"mpl\",scale=1.5)"
   ]
  },
  {
   "cell_type": "code",
   "execution_count": null,
   "id": "a2379f70-9286-404f-a754-3fd08834fe2b",
   "metadata": {},
   "outputs": [],
   "source": []
  }
 ],
 "metadata": {
  "kernelspec": {
   "display_name": "Python 3 (ipykernel)",
   "language": "python",
   "name": "python3"
  },
  "language_info": {
   "codemirror_mode": {
    "name": "ipython",
    "version": 3
   },
   "file_extension": ".py",
   "mimetype": "text/x-python",
   "name": "python",
   "nbconvert_exporter": "python",
   "pygments_lexer": "ipython3",
   "version": "3.9.12"
  }
 },
 "nbformat": 4,
 "nbformat_minor": 5
}
